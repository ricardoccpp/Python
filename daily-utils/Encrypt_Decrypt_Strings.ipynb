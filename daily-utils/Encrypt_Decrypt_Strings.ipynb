{
 "cells": [
  {
   "cell_type": "markdown",
   "metadata": {},
   "source": [
    "# Módulo para criptografar senha e gravar num arquivo binario para uso em conjunto com chave gerada"
   ]
  },
  {
   "cell_type": "code",
   "execution_count": 11,
   "metadata": {},
   "outputs": [
    {
     "name": "stdout",
     "output_type": "stream",
     "text": [
      "Nome do arquivo a ser gerado: encrypted_pass\n",
      "Senha a ser criptografada: ········\n",
      "Senha criptografada!!\n",
      "\n",
      "IMPORTANTE: Utilize a function decrypt_password do modulo decrypt_password.py para descriptografar a senha!\n",
      "\n",
      "ATENCAO: Copie os arquivos abaixo para o diretorio do script que a senha sera utilizada: \n",
      "key.bin \n",
      "encrypted_pass.bin\n"
     ]
    }
   ],
   "source": [
    "import getpass\n",
    "from cryptography.fernet import Fernet\n",
    "\n",
    "# Get file name and password to be encrypted\n",
    "file_name = input('Nome do arquivo a ser gerado: ')\n",
    "pswd = getpass.getpass('Senha a ser criptografada: ')\n",
    "\n",
    "# Generate key\n",
    "key = Fernet.generate_key()\n",
    "cipher_suite = Fernet(key)\n",
    "ciphered_text = cipher_suite.encrypt(bytes(pswd, 'utf-8'))\n",
    "\n",
    "# Write key and password in binary files\n",
    "with open('key.bin', 'wb') as file_object: file_object.write(key)\n",
    "with open(file_name + '.bin', 'wb') as file_object: file_object.write(ciphered_text)\n",
    "\n",
    "# Some information messages\n",
    "print('Senha criptografada!!')\n",
    "print('\\nIMPORTANTE: Utilize a function decrypt_password do modulo '\n",
    "      'decrypt_password.py para descriptografar a senha!')\n",
    "print('\\nATENCAO: Copie os arquivos abaixo para o diretorio do script que a '\n",
    "      'senha sera utilizada: \\nkey.bin \\n%s' % (file_name + '.bin'))"
   ]
  },
  {
   "cell_type": "markdown",
   "metadata": {},
   "source": [
    "# Módulo para recuperar a senha através dos arquivos binários gerados pelo módulo de criptografia"
   ]
  },
  {
   "cell_type": "code",
   "execution_count": 12,
   "metadata": {
    "scrolled": true
   },
   "outputs": [
    {
     "name": "stdout",
     "output_type": "stream",
     "text": [
      "Senha descriptografada: !senha_criptograda!\n"
     ]
    }
   ],
   "source": [
    "from cryptography.fernet import Fernet\n",
    "import os\n",
    "\n",
    "def decrypt_password(file_name):\n",
    "    # The next 2 lines below get current directory of .py file, but it breaks when running on interactive shell\n",
    "    # dir_path = os.path.dirname(os.path.realpath(__file__))\n",
    "    # str_dir = str(dir_path) + '\\\\'\n",
    "    str_dir = '' # comment this line and uncomment the 2 lines above if you want to use the function in a .py file\n",
    "    with open(str_dir + 'key.bin', 'rb') as file_object:\n",
    "        for line in file_object:\n",
    "            key = line\n",
    "    cipher_suite = Fernet(key)\n",
    "    with open(str_dir + file_name, 'rb') as file_object:\n",
    "        for line in file_object:\n",
    "            encryptedpwd = line\n",
    "    uncipher_text = (cipher_suite.decrypt(encryptedpwd))\n",
    "    plain_text_encryptedpassword = bytes(uncipher_text).decode(\"utf-8\") #convert to string\n",
    "    return plain_text_encryptedpassword\n",
    "\n",
    "password = decrypt_password('encrypted_pass.bin')\n",
    "print('Senha descriptografada: %s' %password)"
   ]
  }
 ],
 "metadata": {
  "kernelspec": {
   "display_name": "Python 3",
   "language": "python",
   "name": "python3"
  },
  "language_info": {
   "codemirror_mode": {
    "name": "ipython",
    "version": 3
   },
   "file_extension": ".py",
   "mimetype": "text/x-python",
   "name": "python",
   "nbconvert_exporter": "python",
   "pygments_lexer": "ipython3",
   "version": "3.6.5"
  }
 },
 "nbformat": 4,
 "nbformat_minor": 2
}
